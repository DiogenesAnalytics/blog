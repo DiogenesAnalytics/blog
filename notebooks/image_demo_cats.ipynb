{
 "cells": [
  {
   "cell_type": "markdown",
   "id": "2274c2db-d081-4481-b3b2-73a7a774e020",
   "metadata": {},
   "source": [
    "# Images Demo: Cats! Cats! Cats!\n",
    "This *demo notebook* simply aims to show off the most *relevant* **image features** of the *package* (using cat images as the data of choice)."
   ]
  },
  {
   "cell_type": "markdown",
   "id": "892ffef1-4e86-4fe6-a94f-127c3eb11439",
   "metadata": {},
   "source": [
    "## Setup\n",
    "First we need to get everything setup ..."
   ]
  },
  {
   "cell_type": "code",
   "execution_count": null,
   "id": "2580ff14-3b12-4b66-a5f3-69411531213d",
   "metadata": {},
   "outputs": [],
   "source": [
    "# path to cat data inside offical docker image\n",
    "CAT_IMAGE_DIR = \"/usr/local/src/blog_utils/tests/data/images/cats\"\n",
    "\n",
    "# check for colab\n",
    "if \"google.colab\" in str(get_ipython()):\n",
    "    # set new cat pic path\n",
    "    CAT_IMAGE_DIR= \"/content/blog_utils/tests/data/images/cats\"\n",
    "    \n",
    "    # install colab dependencies\n",
    "    !pip install git+https://github.com/DiogenesAnalytics/blog_utils    "
   ]
  },
  {
   "cell_type": "markdown",
   "id": "86b403e0-86d8-4d9a-a70b-31ef5defda6f",
   "metadata": {},
   "source": [
    "## Image Loading\n",
    "First let's load some images:"
   ]
  },
  {
   "cell_type": "code",
   "execution_count": null,
   "id": "15ab4b2f-7d82-4fcd-8337-43f4249d954c",
   "metadata": {},
   "outputs": [],
   "source": [
    "# get the image io utilities\n",
    "from blog_utils.images.io import open_images_in_directory\n",
    "\n",
    "# get PIL images (and store as list)\n",
    "cat_raw_images = list(open_images_in_directory(CAT_IMAGE_DIR))"
   ]
  },
  {
   "cell_type": "markdown",
   "id": "3e9b6253-144b-4100-868e-c7055285f2aa",
   "metadata": {},
   "source": [
    "## Display Images\n",
    "Now let's do a little display with the raw images:"
   ]
  },
  {
   "cell_type": "code",
   "execution_count": null,
   "id": "4bce779f-c220-4243-9d6a-afef44e0800e",
   "metadata": {},
   "outputs": [],
   "source": [
    "# get display module utils\n",
    "from blog_utils.images.display import display_images_in_grid\n",
    "import string\n",
    "\n",
    "# get capital letters\n",
    "capital_letters = list(string.ascii_uppercase)\n",
    "\n",
    "# display cats\n",
    "display_images_in_grid(\n",
    "    cat_raw_images,\n",
    "    capital_letters[:len(cat_raw_images)],\n",
    "    (300, 300),\n",
    "    2,\n",
    "    \"Figure 1. Cats!!!\",\n",
    "    bottom_title_coords=(0.5, -0.01),\n",
    "    ax_title_y_coord=-0.2,\n",
    ")"
   ]
  },
  {
   "cell_type": "markdown",
   "id": "a679e130-63bb-4fe9-8056-83417e9376d4",
   "metadata": {},
   "source": [
    "## Shrinking Images\n",
    "Sometimes you want to shrink the images down to a certain size (e.g. for embedding into a `Jupyter Notebook` as a *base64* encoded string):"
   ]
  },
  {
   "cell_type": "code",
   "execution_count": null,
   "id": "9228b4ee-9468-4fa5-a2c0-7f9045263544",
   "metadata": {},
   "outputs": [],
   "source": [
    "# get transform module utils\n",
    "import tempfile\n",
    "from blog_utils.images.transform import shrink_image_to_size\n",
    "from blog_utils.images.io import save_images_to_directory, list_file_sizes\n",
    "\n",
    "# loop over existing images to shrink to 100KB size\n",
    "cat_resized_images = [shrink_image_to_size(img, 50) for img in cat_raw_images]\n",
    "\n",
    "# now create tempdir\n",
    "with tempfile.TemporaryDirectory() as temp_dir:\n",
    "    # save shrunken file to temp dir\n",
    "    save_images_to_directory(cat_resized_images, temp_dir)\n",
    "\n",
    "    # get file sizes\n",
    "    shrunken_file_size = list(list_file_sizes(temp_dir))\n",
    "\n",
    "# get original file size info\n",
    "orig_file_size = list_file_sizes(CAT_IMAGE_DIR)\n",
    "\n",
    "# now print out two directories\n",
    "for name, iterable in {\"original files\": orig_file_size, \"shrunken files\": shrunken_file_size}.items():\n",
    "    # print type\n",
    "    print(f\"Type: {name}\")\n",
    "\n",
    "    # print out\n",
    "    for name, size in iterable:\n",
    "        print(f\"File: {name} / Size: {size:.0f}KB\")\n",
    "\n",
    "    # put a little space\n",
    "    print(\"\")"
   ]
  },
  {
   "cell_type": "code",
   "execution_count": null,
   "id": "62a298a8-1c67-4e09-be94-20f5f5905532",
   "metadata": {},
   "outputs": [],
   "source": [
    "# now display\n",
    "display_images_in_grid(\n",
    "    cat_resized_images,\n",
    "    capital_letters[:len(cat_resized_images)],\n",
    "    (300, 300),\n",
    "    2,\n",
    "    \"Figure 2. Shrunken Cats!!!\",\n",
    "    bottom_title_coords=(0.5, -0.01),\n",
    "    ax_title_y_coord=-0.2,\n",
    ")"
   ]
  },
  {
   "cell_type": "markdown",
   "id": "6ba71d82-81e5-4791-9f6c-bf0016e1425f",
   "metadata": {},
   "source": [
    "## Embedding\n",
    "Now we want to attempt to embed the aforementioned images (i.e. the **shrunken images**) like we mentioned previously:"
   ]
  },
  {
   "cell_type": "code",
   "execution_count": null,
   "id": "68487296-6a52-445a-b755-9ac92e922902",
   "metadata": {},
   "outputs": [],
   "source": [
    "# get encode module\n",
    "from blog_utils.images.encode import encode_images\n",
    "from blog_utils.images.display import display_base64_images_grid\n",
    "\n",
    "# encode previously shrunken images (note: creates generator)\n",
    "cat_encoded_resized = encode_images(cat_resized_images)\n",
    "\n",
    "# now display encoded\n",
    "display_base64_images_grid(\n",
    "    cat_encoded_resized, # generator gets consumed\n",
    "    capital_letters[:len(cat_resized_images)],\n",
    "    (300, 300),\n",
    "    2,\n",
    "    \"Figure 3. Embedded Cats!!!\",\n",
    "    bottom_title_coords=(0.5, -0.01),\n",
    "    ax_title_y_coord=-0.2,\n",
    ")"
   ]
  },
  {
   "cell_type": "markdown",
   "id": "39274eed-8b0d-4ead-95f9-90002bf31603",
   "metadata": {},
   "source": [
    "The *shrunken cat images* are encoded in *base64* and can be stored in the notebook in a list like so:\n",
    "```python\n",
    "# first print contents from the encoding generator\n",
    "list(encode_images(cat_resized_images))\n",
    "\n",
    "# then copy/paste the output into a variable (note: only first 50 chars show)\n",
    "embedded_images = [\n",
    "    \"/9j/4AAQSkZJRgABAQAAAQABAAD/2wBDAAgGBgcGBQgHBwcJCQ ...\",\n",
    "    \"/9j/4AAQSkZJRgABAQAAAQABAAD/2wBDAAgGBgcGBQgHBwcJCQ ...\",\n",
    "    \"/9j/4AAQSkZJRgABAQAAAQABAAD/2wBDAAgGBgcGBQgHBwcJCQ ...\",\n",
    "    \"/9j/4AAQSkZJRgABAQAAAQABAAD/2wBDAAgGBgcGBQgHBwcJCQ ...\",\n",
    "    \"/9j/4AAQSkZJRgABAQAAAQABAAD/2wBDAAgGBgcGBQgHBwcJCQ ...\",\n",
    "    \"/9j/4AAQSkZJRgABAQAAAQABAAD/2wBDAAgGBgcGBQgHBwcJCQ ...\",\n",
    "]\n",
    "```\n",
    "\n",
    "Now the images are **embedded** in their *base64 encoded* form into the notebook itself, and can be displayed as shown above. This eliminates the need (if required) to store image data in a separate directory. Now all image data is stored **directly** in the `Jupyter notebook`."
   ]
  },
  {
   "cell_type": "markdown",
   "id": "0fe7a107-3c21-468b-8234-0e37fcf8ae33",
   "metadata": {},
   "source": [
    "## Saving Images\n",
    "Technically we already *demonstrated* saving images in the [Shrinking Images](#Shrinking-Images) section, but it's worth showing explicitly:"
   ]
  },
  {
   "cell_type": "code",
   "execution_count": null,
   "id": "2968c413-9677-47d5-8cc1-11aab39c11fa",
   "metadata": {},
   "outputs": [],
   "source": [
    "# file info libs\n",
    "import os\n",
    "from datetime import datetime\n",
    "\n",
    "# now create tempdir\n",
    "with tempfile.TemporaryDirectory() as temp_dir:\n",
    "    # save shrunken file to temp dir\n",
    "    save_images_to_directory(cat_resized_images, temp_dir)\n",
    "\n",
    "    # list all files and directories in the specified directory\n",
    "    contents = os.listdir(temp_dir)\n",
    "    \n",
    "    for item in contents:\n",
    "        # get the full path of the item\n",
    "        item_path = os.path.join(temp_dir, item)\n",
    "        \n",
    "        # get the status of the item\n",
    "        stat_info = os.stat(item_path)\n",
    "        \n",
    "        # extract relevant information\n",
    "        size = stat_info.st_size  # size in bytes\n",
    "        permissions = oct(stat_info.st_mode & 0o777)  # file permissions\n",
    "        last_modified = datetime.fromtimestamp(stat_info.st_mtime)  # last modified time\n",
    "        \n",
    "        # print the information\n",
    "        print(f\"Item: {item}\")\n",
    "        print(f\"Size: {size} bytes\")\n",
    "        print(f\"Permissions: {permissions}\")\n",
    "        print(f\"Last Modified: {last_modified}\")\n",
    "        print()"
   ]
  }
 ],
 "metadata": {
  "kernelspec": {
   "display_name": "Python 3 (ipykernel)",
   "language": "python",
   "name": "python3"
  },
  "language_info": {
   "codemirror_mode": {
    "name": "ipython",
    "version": 3
   },
   "file_extension": ".py",
   "mimetype": "text/x-python",
   "name": "python",
   "nbconvert_exporter": "python",
   "pygments_lexer": "ipython3",
   "version": "3.10.11"
  }
 },
 "nbformat": 4,
 "nbformat_minor": 5
}
